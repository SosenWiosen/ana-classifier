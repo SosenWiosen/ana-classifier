{
 "cells": [
  {
   "cell_type": "code",
   "source": [
    "import os\n",
    "from random import randint\n",
    "\n",
    "import numpy as np\n",
    "import tensorflow as tf\n",
    "from keras.src.layers import Dropout, GlobalAveragePooling2D\n",
    "from sklearn.utils import class_weight\n",
    "from tensorflow.keras.preprocessing.image import ImageDataGenerator\n",
    "from tensorflow.keras.callbacks import EarlyStopping\n",
    "from tensorflow.keras import layers\n",
    "from tensorflow.keras.models import Model\n"
   ],
   "metadata": {
    "collapsed": false,
    "jupyter": {
     "is_executing": true
    }
   },
   "id": "62a9b19a1b6aa07a",
   "outputs": [],
   "execution_count": null
  },
  {
   "cell_type": "code",
   "source": [
    "dst_path = \"/Users/sosen/UniProjects/eng-thesis/data/data-uncompressed/2D-tiff-brightest-areas-sted-128\"\n",
    "\n",
    "# Define parameters\n",
    "batch_size = 64\n",
    "img_height = 128\n",
    "img_width = 128"
   ],
   "metadata": {
    "collapsed": false
   },
   "id": "878418954e7580ef",
   "outputs": [],
   "execution_count": null
  },
  {
   "metadata": {},
   "cell_type": "code",
   "source": [
    "def copy_red_to_green_and_blue(image, label):\n",
    "    \"\"\"\n",
    "    This function takes an image and replaces the green and blue channels \n",
    "    with the values from the red channel.\n",
    "    \"\"\"\n",
    "    # Repeat the red channel across the RGB channels\n",
    "    # image[..., 0] is the red channel of the image\n",
    "    red_channel = image[..., 0:1]  # Extract only the red channel, shape (H, W, 1)\n",
    "    new_image = tf.concat([red_channel, red_channel, red_channel], axis=-1)\n",
    "    return new_image, label"
   ],
   "id": "2f5cbbfc2c3b8f1",
   "outputs": [],
   "execution_count": null
  },
  {
   "metadata": {},
   "cell_type": "code",
   "source": [
    "\n",
    "train_ds, val_ds = tf.keras.utils.image_dataset_from_directory(\n",
    "    directory=dst_path,\n",
    "    labels='inferred',\n",
    "    subset=\"both\",\n",
    "    label_mode='categorical',\n",
    "    image_size=(img_height, img_width),\n",
    "    batch_size=batch_size,\n",
    "    validation_split=0.3,\n",
    "    seed=123,\n",
    ")"
   ],
   "id": "98a10dfe66763f2",
   "outputs": [],
   "execution_count": null
  },
  {
   "metadata": {},
   "cell_type": "code",
   "source": [
    "\n",
    "# Retrieve number of classes\n",
    "class_names = train_ds.class_names\n",
    "num_classes = len(class_names)\n",
    "\n",
    "# Data augmentation function\n",
    "data_augmentation = tf.keras.Sequential([\n",
    "    tf.keras.layers.Rescaling(1. / 255),\n",
    "    tf.keras.layers.RandomRotation(0.1),\n",
    "    # You can add more augmentations if needed\n",
    "    # tf.keras.layers.RandomZoom(0.15),\n",
    "    # tf.keras.layers.RandomWidth(0.2),\n",
    "    # tf.keras.layers.RandomHeight(0.2),\n",
    "    # tf.keras.layers.RandomShear(0.15),\n",
    "    tf.keras.layers.RandomFlip(\"horizontal\"),\n",
    "])\n",
    "\n",
    "# Augment the datasets\n",
    "\n",
    "train_ds = train_ds.map(lambda x, y: (tf.image.per_image_standardization(x), y))\n",
    "val_ds = val_ds.map(lambda x, y: (tf.image.per_image_standardization(x), y))\n",
    "\n",
    "# Modify the datasets to use the red channel for all\n",
    "train_ds = train_ds.map(copy_red_to_green_and_blue)\n",
    "val_ds = val_ds.map(copy_red_to_green_and_blue)\n",
    "\n",
    "train_ds = train_ds.map(lambda x, y: (data_augmentation(x, training=True), y))\n",
    "val_ds = val_ds.map(lambda x, y: (data_augmentation(x, training=False), y))\n",
    "\n",
    "# Optimize dataset performance\n",
    "AUTOTUNE = tf.data.AUTOTUNE\n",
    "train_ds = train_ds.prefetch(buffer_size=AUTOTUNE)\n",
    "val_ds = val_ds.prefetch(buffer_size=AUTOTUNE)"
   ],
   "id": "4effc0daadb4f71",
   "outputs": [],
   "execution_count": null
  },
  {
   "cell_type": "code",
   "source": [
    "# x_sample, y_sample = next(train_ds)\n",
    "# print(\"Shape of input batch: \", x_sample.shape)\n",
    "# print(\"Shape of labels batch: \", y_sample.shape)"
   ],
   "metadata": {
    "collapsed": false
   },
   "id": "104edbfe1935ea01",
   "outputs": [],
   "execution_count": null
  },
  {
   "cell_type": "code",
   "source": [
    "from tensorflow.keras import backend as K\n",
    "\n",
    "\n",
    "def f1(y_true, y_pred):\n",
    "    def precision(y_true, y_pred):\n",
    "        '''\n",
    "        Precision metric. Only computes a batch-wise average of precision. Computes the precision, a metric for multi-label classification of\n",
    "        how many selected items are relevant.\n",
    "        '''\n",
    "        true_positives = K.sum(K.round(K.clip(y_true * y_pred, 0, 1)))\n",
    "        predicted_positives = K.sum(K.round(K.clip(y_pred, 0, 1)))\n",
    "        precision = true_positives / (predicted_positives + K.epsilon())\n",
    "        return precision\n",
    "\n",
    "    def recall(y_true, y_pred):\n",
    "        '''\n",
    "        Recall metric. Only computes a batch-wise average of recall. Computes the recall, a metric for multi-label classification of\n",
    "        how many relevant items are selected.\n",
    "        '''\n",
    "        true_positives = K.sum(K.round(K.clip(y_true * y_pred, 0, 1)))\n",
    "        possible_positives = K.sum(K.round(K.clip(y_true, 0, 1)))\n",
    "        recall = true_positives / (possible_positives + K.epsilon())\n",
    "        return recall\n",
    "\n",
    "    y_pred = K.round(y_pred)\n",
    "    precision = precision(y_true, y_pred)\n",
    "    recall = recall(y_true, y_pred)\n",
    "    return 2 * ((precision * recall) / (precision + recall + K.epsilon()))"
   ],
   "metadata": {
    "collapsed": false
   },
   "id": "450c4a382673487b",
   "outputs": [],
   "execution_count": null
  },
  {
   "cell_type": "code",
   "source": [
    "\n",
    "\n",
    "base_model = tf.keras.applications.EfficientNetB0(weights='imagenet', include_top=False,\n",
    "                                                  input_shape=(img_width, img_height, 3))\n",
    "\n",
    "base_model.trainable = False\n",
    "x = base_model.output\n",
    "x = layers.GlobalAveragePooling2D(name=\"avg_pool\")(x)\n",
    "x = layers.BatchNormalization()(x)\n",
    "x = layers.Dropout(0.2, name=\"top_dropout\")(x)\n",
    "# x = layers.Dense(512, activation='relu')(x)\n",
    "predictions = layers.Dense(num_classes, activation='softmax', name=\"pred\")(x)  # Replace num_classes with your actual number of classes\n",
    "\n",
    "# Define the final model\n",
    "model = Model(inputs=base_model.input, outputs=predictions, name=\"EfficientNet\")\n",
    "\n",
    "# Compile the model\n",
    "model.compile(optimizer='adam',\n",
    "              loss='categorical_crossentropy',\n",
    "              metrics=['accuracy', f1])\n"
   ],
   "metadata": {
    "collapsed": false
   },
   "id": "8b5932f2034a6999",
   "outputs": [],
   "execution_count": null
  },
  {
   "cell_type": "code",
   "source": [
    "\n",
    "# Count occurrences of each class in the training dataset\n",
    "labels = np.concatenate([y for x, y in train_ds], axis=0)\n",
    "label_indices = np.argmax(labels, axis=1)\n",
    "\n",
    "# Compute class weights\n",
    "class_weights = class_weight.compute_class_weight(\n",
    "    class_weight='balanced',\n",
    "    classes=np.unique(label_indices),\n",
    "    y=label_indices\n",
    ")\n",
    "\n",
    "train_class_weights = dict(enumerate(class_weights))\n",
    "\n",
    "\n",
    "early_stopping = EarlyStopping(\n",
    "    monitor='val_f1',  # specify the F1 score for early stopping\n",
    "    patience=3,\n",
    "    mode='max',  # since higher F1 scores are better\n",
    "    restore_best_weights=True\n",
    ")\n",
    "\n",
    "# Train the model\n",
    "history = model.fit(\n",
    "    train_ds,\n",
    "    epochs=20,\n",
    "    validation_data=val_ds,\n",
    "    class_weight=train_class_weights,\n",
    "    callbacks=[early_stopping]  # add the early stopping callback\n",
    "\n",
    ")"
   ],
   "metadata": {
    "collapsed": false
   },
   "id": "80a6607aa222a32b",
   "outputs": [],
   "execution_count": null
  },
  {
   "cell_type": "code",
   "source": [
    "from sklearn.metrics import classification_report\n",
    "import numpy as np\n",
    "import tensorflow as tf\n",
    "\n",
    "# Assuming model is already trained and compiled\n",
    "\n",
    "# Predict on validation data\n",
    "predictions = []\n",
    "y_true = []\n",
    "\n",
    "# Iterate over the validation dataset to collect true labels and predictions\n",
    "for images, labels in val_ds:\n",
    "    preds = model.predict(images)\n",
    "    predictions.extend(np.argmax(preds, axis=1))\n",
    "    y_true.extend(np.argmax(labels.numpy(), axis=1))  # Convert one-hot to integer labels\n",
    "\n",
    "# Convert lists to numpy arrays\n",
    "y_pred = np.array(predictions)\n",
    "y_true = np.array(y_true)\n",
    "\n",
    "print(classification_report(y_true, y_pred, target_names=class_names))"
   ],
   "metadata": {
    "collapsed": false
   },
   "id": "41bcfee25dfeb5e3",
   "outputs": [],
   "execution_count": null
  },
  {
   "cell_type": "code",
   "source": [
    "import matplotlib.pyplot as plt\n",
    "\n",
    "fig, axs = plt.subplots(3, figsize=(10, 15))\n",
    "\n",
    "# Plot training & validation accuracy values\n",
    "axs[0].plot(history.history['accuracy'])\n",
    "axs[0].plot(history.history['val_accuracy'])\n",
    "axs[0].set_title('Model accuracy')\n",
    "axs[0].set_ylabel('Accuracy')\n",
    "axs[0].set_xlabel('Epoch')\n",
    "axs[0].legend(['Train', 'Val'], loc='upper left')\n",
    "\n",
    "# Plot training & validation loss values\n",
    "axs[1].plot(history.history['loss'])\n",
    "axs[1].plot(history.history['val_loss'])\n",
    "axs[1].set_title('Model loss')\n",
    "axs[1].set_ylabel('Loss')\n",
    "axs[1].set_xlabel('Epoch')\n",
    "axs[1].legend(['Train', 'Val'], loc='upper left')\n",
    "# Plot training & validation F1 score values\n",
    "axs[2].plot(history.history['f1'])\n",
    "axs[2].plot(history.history['val_f1'])\n",
    "axs[2].set_title('Model F1 Score')\n",
    "axs[2].set_ylabel('F1 Score')\n",
    "axs[2].set_xlabel('Epoch')\n",
    "axs[2].legend(['Train', 'Val'], loc='upper left')\n",
    "\n",
    "plt.show()"
   ],
   "metadata": {
    "collapsed": false
   },
   "id": "6061076124f1d63a",
   "outputs": [],
   "execution_count": null
  }
 ],
 "metadata": {
  "kernelspec": {
   "display_name": "Python 3",
   "language": "python",
   "name": "python3"
  },
  "language_info": {
   "codemirror_mode": {
    "name": "ipython",
    "version": 2
   },
   "file_extension": ".py",
   "mimetype": "text/x-python",
   "name": "python",
   "nbconvert_exporter": "python",
   "pygments_lexer": "ipython2",
   "version": "2.7.6"
  }
 },
 "nbformat": 4,
 "nbformat_minor": 5
}
