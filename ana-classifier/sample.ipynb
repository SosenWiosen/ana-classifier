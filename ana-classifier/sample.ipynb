{
 "cells": [
  {
   "cell_type": "code",
   "source": [
    "import os\n",
    "import tensorflow as tf\n",
    "from tensorflow.keras.preprocessing.image import ImageDataGenerator\n",
    "from tensorflow.keras.applications import ResNet50\n",
    "from tensorflow.keras.layers import Dense, GlobalAveragePooling2D\n",
    "from tensorflow.keras.models import Model"
   ],
   "metadata": {
    "collapsed": false
   },
   "id": "62a9b19a1b6aa07a",
   "outputs": [],
   "execution_count": null
  },
  {
   "cell_type": "code",
   "source": [
    "dst_path = \"/Users/sosen/UniProjects/eng-thesis/data/data-uncompressed/2D-tiff-grouped-random\"\n",
    "\n",
    "# Define parameters\n",
    "batch_size = 32\n",
    "img_height = 56\n",
    "img_width = 56"
   ],
   "metadata": {
    "collapsed": false
   },
   "id": "878418954e7580ef",
   "outputs": [],
   "execution_count": null
  },
  {
   "cell_type": "code",
   "source": [
    "\n",
    "datagen = ImageDataGenerator(\n",
    "    rescale=1. / 255,\n",
    "    validation_split=0.2,\n",
    "    # rotation_range=20,\n",
    "    # zoom_range=0.15,\n",
    "    # width_shift_range=0.2,\n",
    "    # height_shift_range=0.2,\n",
    "    # shear_range=0.15,\n",
    "    # horizontal_flip=True,\n",
    "    # fill_mode=\"nearest\"\n",
    ")"
   ],
   "metadata": {
    "collapsed": false
   },
   "id": "2a13dd5863f29461",
   "outputs": [],
   "execution_count": null
  },
  {
   "cell_type": "code",
   "source": [
    "\n",
    "# Generate training dataset\n",
    "train_ds = datagen.flow_from_directory(\n",
    "    directory=dst_path,\n",
    "    target_size=(img_height, img_width),\n",
    "    batch_size=batch_size,\n",
    "    class_mode='categorical',\n",
    "    subset='training'\n",
    ")\n",
    "\n",
    "# Generate validation dataset\n",
    "val_ds = datagen.flow_from_directory(\n",
    "    directory=dst_path,\n",
    "    target_size=(img_height, img_width),\n",
    "    batch_size=batch_size,\n",
    "    class_mode='categorical',\n",
    "    subset='validation'\n",
    ")\n",
    "num_classes = len(val_ds.class_indices)\n"
   ],
   "metadata": {
    "collapsed": false
   },
   "id": "1757b57896d1b088",
   "outputs": [],
   "execution_count": null
  },
  {
   "cell_type": "code",
   "source": [
    "x_sample, y_sample = next(train_ds)\n",
    "print(\"Shape of input batch: \", x_sample.shape)\n",
    "print(\"Shape of labels batch: \", y_sample.shape)"
   ],
   "metadata": {
    "collapsed": false
   },
   "id": "104edbfe1935ea01",
   "outputs": [],
   "execution_count": null
  },
  {
   "cell_type": "code",
   "source": [
    "from keras import backend as K\n",
    "\n",
    "def f1(y_true, y_pred):\n",
    "    def precision(y_true, y_pred):\n",
    "        '''\n",
    "        Precision metric. Only computes a batch-wise average of precision. Computes the precision, a metric for multi-label classification of\n",
    "        how many selected items are relevant.\n",
    "        '''\n",
    "        true_positives = K.sum(K.round(K.clip(y_true * y_pred, 0, 1)))\n",
    "        predicted_positives = K.sum(K.round(K.clip(y_pred, 0, 1)))\n",
    "        precision = true_positives / (predicted_positives + K.epsilon())\n",
    "        return precision\n",
    "\n",
    "    def recall(y_true, y_pred):\n",
    "        '''\n",
    "        Recall metric. Only computes a batch-wise average of recall. Computes the recall, a metric for multi-label classification of\n",
    "        how many relevant items are selected.\n",
    "        '''\n",
    "        true_positives = K.sum(K.round(K.clip(y_true * y_pred, 0, 1)))\n",
    "        possible_positives = K.sum(K.round(K.clip(y_true, 0, 1)))\n",
    "        recall = true_positives / (possible_positives + K.epsilon())\n",
    "        return recall\n",
    "\n",
    "    y_pred = K.round(y_pred)\n",
    "    precision = precision(y_true, y_pred)\n",
    "    recall = recall(y_true, y_pred)\n",
    "    return 2*((precision*recall)/(precision+recall+K.epsilon()))"
   ],
   "metadata": {
    "collapsed": false
   },
   "id": "450c4a382673487b",
   "outputs": [],
   "execution_count": null
  },
  {
   "cell_type": "code",
   "source": [
    "\n",
    "\n",
    "base_model = tf.keras.applications.EfficientNetB3(weights='imagenet', include_top=False, input_shape=(img_width, img_height, 3))\n",
    "\n",
    "# Add custom layers\n",
    "x = base_model.output\n",
    "x = GlobalAveragePooling2D()(x)\n",
    "x = Dense(1024, activation='relu')(x)\n",
    "predictions = Dense(6, activation='softmax')(x)  # Replace num_classes with your actual number of classes\n",
    "\n",
    "# Define the final model\n",
    "model = Model(inputs=base_model.input, outputs=predictions)\n",
    "\n",
    "# Compile the model\n",
    "model.compile(optimizer='adam',\n",
    "              loss='categorical_crossentropy',\n",
    "              metrics=['accuracy', f1])\n"
   ],
   "metadata": {
    "collapsed": false
   },
   "id": "8b5932f2034a6999",
   "outputs": [],
   "execution_count": null
  },
  {
   "cell_type": "code",
   "source": [
    "# Train the model\n",
    "history = model.fit(\n",
    "    train_ds,\n",
    "    validation_data=val_ds,\n",
    "    epochs=10\n",
    ")"
   ],
   "metadata": {
    "collapsed": false
   },
   "id": "80a6607aa222a32b",
   "outputs": [],
   "execution_count": null
  },
  {
   "cell_type": "code",
   "source": [
    "from sklearn.metrics import classification_report\n",
    "import numpy as np\n",
    "\n",
    "# Assume you have validation data in val_ds\n",
    "# Number of classes\n",
    "# num_classes = len(val_ds.class_indices)\n",
    "\n",
    "# Get true class labels\n",
    "y_true = val_ds.classes\n",
    "\n",
    "# Predict on validation data\n",
    "predictions = model.predict(val_ds)\n",
    "\n",
    "# Convert predictions to label index\n",
    "y_pred = np.argmax(predictions, axis=1)\n",
    "\n",
    "# Print classification report\n",
    "labels = list(val_ds.class_indices.keys())\n",
    "print(classification_report(y_true, y_pred, target_names=labels))"
   ],
   "metadata": {
    "collapsed": false
   },
   "id": "41bcfee25dfeb5e3",
   "outputs": [],
   "execution_count": null
  },
  {
   "cell_type": "code",
   "source": [
    "import matplotlib.pyplot as plt\n",
    "\n",
    "fig, axs = plt.subplots(2)\n",
    "\n",
    "# axs[0].plot(hi)\n",
    "# Plot training & validation accuracy values\n",
    "# axs[0].plot(history.history['accuracy'])\n",
    "# axs[0].plot(history.history['val_accuracy'])\n",
    "# axs[0].set_title('Model accuracy')\n",
    "# axs[0].set_ylabel('Accuracy')\n",
    "# axs[0].set_xlabel('Epoch')\n",
    "# axs[0].legend(['Train', 'Val'], loc='upper left')\n",
    "# \n",
    "# # Plot training & validation loss values\n",
    "# axs[1].plot(history.history['loss'])\n",
    "# axs[1].plot(history.history['val_loss'])\n",
    "# axs[1].set_title('Model loss')\n",
    "# axs[1].set_ylabel('Loss')\n",
    "# axs[1].set_xlabel('Epoch')\n",
    "# axs[1].legend(['Train', 'Val'], loc='upper left')\n",
    "\n",
    "plt.show()"
   ],
   "metadata": {
    "collapsed": false
   },
   "id": "6061076124f1d63a",
   "outputs": [],
   "execution_count": null
  },
  {
   "cell_type": "code",
   "source": [],
   "metadata": {
    "collapsed": false
   },
   "id": "fab0a80d42c56714",
   "outputs": [],
   "execution_count": null
  }
 ],
 "metadata": {
  "kernelspec": {
   "display_name": "Python 3",
   "language": "python",
   "name": "python3"
  },
  "language_info": {
   "codemirror_mode": {
    "name": "ipython",
    "version": 2
   },
   "file_extension": ".py",
   "mimetype": "text/x-python",
   "name": "python",
   "nbconvert_exporter": "python",
   "pygments_lexer": "ipython2",
   "version": "2.7.6"
  }
 },
 "nbformat": 4,
 "nbformat_minor": 5
}
