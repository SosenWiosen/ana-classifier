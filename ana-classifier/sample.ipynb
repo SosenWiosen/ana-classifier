{
 "cells": [
  {
   "cell_type": "code",
   "outputs": [
    {
     "ename": "NotFoundError",
     "evalue": "dlopen(/opt/miniconda3/envs/ana-classifier/lib/python3.8/site-packages/tensorflow-plugins/libmetal_plugin.dylib, 0x0006): symbol not found in flat namespace '_TF_GetInputPropertiesList'",
     "output_type": "error",
     "traceback": [
      "\u001B[0;31m---------------------------------------------------------------------------\u001B[0m",
      "\u001B[0;31mNotFoundError\u001B[0m                             Traceback (most recent call last)",
      "Cell \u001B[0;32mIn[1], line 2\u001B[0m\n\u001B[1;32m      1\u001B[0m \u001B[38;5;28;01mimport\u001B[39;00m \u001B[38;5;21;01mos\u001B[39;00m\n\u001B[0;32m----> 2\u001B[0m \u001B[38;5;28;01mimport\u001B[39;00m \u001B[38;5;21;01mtensorflow\u001B[39;00m \u001B[38;5;28;01mas\u001B[39;00m \u001B[38;5;21;01mtf\u001B[39;00m\n\u001B[1;32m      3\u001B[0m \u001B[38;5;28;01mfrom\u001B[39;00m \u001B[38;5;21;01mtensorflow\u001B[39;00m\u001B[38;5;21;01m.\u001B[39;00m\u001B[38;5;21;01mkeras\u001B[39;00m\u001B[38;5;21;01m.\u001B[39;00m\u001B[38;5;21;01mpreprocessing\u001B[39;00m\u001B[38;5;21;01m.\u001B[39;00m\u001B[38;5;21;01mimage\u001B[39;00m \u001B[38;5;28;01mimport\u001B[39;00m ImageDataGenerator\n\u001B[1;32m      4\u001B[0m \u001B[38;5;28;01mfrom\u001B[39;00m \u001B[38;5;21;01mtensorflow\u001B[39;00m\u001B[38;5;21;01m.\u001B[39;00m\u001B[38;5;21;01mkeras\u001B[39;00m\u001B[38;5;21;01m.\u001B[39;00m\u001B[38;5;21;01mapplications\u001B[39;00m \u001B[38;5;28;01mimport\u001B[39;00m ResNet50\n",
      "File \u001B[0;32m/opt/miniconda3/envs/ana-classifier/lib/python3.8/site-packages/tensorflow/__init__.py:440\u001B[0m\n\u001B[1;32m    438\u001B[0m _plugin_dir \u001B[38;5;241m=\u001B[39m _os\u001B[38;5;241m.\u001B[39mpath\u001B[38;5;241m.\u001B[39mjoin(_s, \u001B[38;5;124m'\u001B[39m\u001B[38;5;124mtensorflow-plugins\u001B[39m\u001B[38;5;124m'\u001B[39m)\n\u001B[1;32m    439\u001B[0m \u001B[38;5;28;01mif\u001B[39;00m _os\u001B[38;5;241m.\u001B[39mpath\u001B[38;5;241m.\u001B[39mexists(_plugin_dir):\n\u001B[0;32m--> 440\u001B[0m   \u001B[43m_ll\u001B[49m\u001B[38;5;241;43m.\u001B[39;49m\u001B[43mload_library\u001B[49m\u001B[43m(\u001B[49m\u001B[43m_plugin_dir\u001B[49m\u001B[43m)\u001B[49m\n\u001B[1;32m    441\u001B[0m   \u001B[38;5;66;03m# Load Pluggable Device Library\u001B[39;00m\n\u001B[1;32m    442\u001B[0m   _ll\u001B[38;5;241m.\u001B[39mload_pluggable_device_library(_plugin_dir)\n",
      "File \u001B[0;32m/opt/miniconda3/envs/ana-classifier/lib/python3.8/site-packages/tensorflow/python/framework/load_library.py:151\u001B[0m, in \u001B[0;36mload_library\u001B[0;34m(library_location)\u001B[0m\n\u001B[1;32m    148\u001B[0m     kernel_libraries \u001B[38;5;241m=\u001B[39m [library_location]\n\u001B[1;32m    150\u001B[0m   \u001B[38;5;28;01mfor\u001B[39;00m lib \u001B[38;5;129;01min\u001B[39;00m kernel_libraries:\n\u001B[0;32m--> 151\u001B[0m     \u001B[43mpy_tf\u001B[49m\u001B[38;5;241;43m.\u001B[39;49m\u001B[43mTF_LoadLibrary\u001B[49m\u001B[43m(\u001B[49m\u001B[43mlib\u001B[49m\u001B[43m)\u001B[49m\n\u001B[1;32m    153\u001B[0m \u001B[38;5;28;01melse\u001B[39;00m:\n\u001B[1;32m    154\u001B[0m   \u001B[38;5;28;01mraise\u001B[39;00m \u001B[38;5;167;01mOSError\u001B[39;00m(\n\u001B[1;32m    155\u001B[0m       errno\u001B[38;5;241m.\u001B[39mENOENT,\n\u001B[1;32m    156\u001B[0m       \u001B[38;5;124m'\u001B[39m\u001B[38;5;124mThe file or folder to load kernel libraries from does not exist.\u001B[39m\u001B[38;5;124m'\u001B[39m,\n\u001B[1;32m    157\u001B[0m       library_location)\n",
      "\u001B[0;31mNotFoundError\u001B[0m: dlopen(/opt/miniconda3/envs/ana-classifier/lib/python3.8/site-packages/tensorflow-plugins/libmetal_plugin.dylib, 0x0006): symbol not found in flat namespace '_TF_GetInputPropertiesList'"
     ]
    }
   ],
   "source": [
    "import os\n",
    "import tensorflow as tf\n",
    "from tensorflow.keras.preprocessing.image import ImageDataGenerator\n",
    "from tensorflow.keras.applications import ResNet50\n",
    "from tensorflow.keras.layers import Dense, GlobalAveragePooling2D\n",
    "from tensorflow.keras.models import Model"
   ],
   "metadata": {
    "collapsed": false,
    "ExecuteTime": {
     "end_time": "2024-07-16T23:27:11.019175Z",
     "start_time": "2024-07-16T23:27:03.958631Z"
    }
   },
   "id": "62a9b19a1b6aa07a",
   "execution_count": 1
  },
  {
   "cell_type": "code",
   "outputs": [],
   "source": [
    "dst_path = \"/Users/sosen/UniProjects/eng-thesis/data/data-uncompressed/2D-tiff-grouped-random\"\n",
    "\n",
    "# Define parameters\n",
    "batch_size = 32\n",
    "img_height = 56\n",
    "img_width = 56"
   ],
   "metadata": {
    "collapsed": false
   },
   "id": "878418954e7580ef",
   "execution_count": null
  },
  {
   "cell_type": "code",
   "outputs": [],
   "source": [
    "\n",
    "datagen = ImageDataGenerator(\n",
    "    rescale=1. / 255,\n",
    "    validation_split=0.2,\n",
    "    # rotation_range=20,\n",
    "    # zoom_range=0.15,\n",
    "    # width_shift_range=0.2,\n",
    "    # height_shift_range=0.2,\n",
    "    # shear_range=0.15,\n",
    "    # horizontal_flip=True,\n",
    "    # fill_mode=\"nearest\"\n",
    ")"
   ],
   "metadata": {
    "collapsed": false
   },
   "id": "2a13dd5863f29461",
   "execution_count": null
  },
  {
   "cell_type": "code",
   "outputs": [],
   "source": [
    "\n",
    "# Generate training dataset\n",
    "train_ds = datagen.flow_from_directory(\n",
    "    directory=dst_path,\n",
    "    target_size=(img_height, img_width),\n",
    "    batch_size=batch_size,\n",
    "    class_mode='categorical',\n",
    "    subset='training'\n",
    ")\n",
    "\n",
    "# Generate validation dataset\n",
    "val_ds = datagen.flow_from_directory(\n",
    "    directory=dst_path,\n",
    "    target_size=(img_height, img_width),\n",
    "    batch_size=batch_size,\n",
    "    class_mode='categorical',\n",
    "    subset='validation'\n",
    ")\n",
    "num_classes = len(val_ds.class_indices)\n"
   ],
   "metadata": {
    "collapsed": false
   },
   "id": "1757b57896d1b088",
   "execution_count": null
  },
  {
   "cell_type": "code",
   "outputs": [],
   "source": [
    "x_sample, y_sample = next(train_ds)\n",
    "print(\"Shape of input batch: \", x_sample.shape)\n",
    "print(\"Shape of labels batch: \", y_sample.shape)"
   ],
   "metadata": {
    "collapsed": false
   },
   "id": "104edbfe1935ea01",
   "execution_count": null
  },
  {
   "cell_type": "code",
   "outputs": [],
   "source": [
    "from keras import backend as K\n",
    "\n",
    "def f1(y_true, y_pred):\n",
    "    def precision(y_true, y_pred):\n",
    "        '''\n",
    "        Precision metric. Only computes a batch-wise average of precision. Computes the precision, a metric for multi-label classification of\n",
    "        how many selected items are relevant.\n",
    "        '''\n",
    "        true_positives = K.sum(K.round(K.clip(y_true * y_pred, 0, 1)))\n",
    "        predicted_positives = K.sum(K.round(K.clip(y_pred, 0, 1)))\n",
    "        precision = true_positives / (predicted_positives + K.epsilon())\n",
    "        return precision\n",
    "\n",
    "    def recall(y_true, y_pred):\n",
    "        '''\n",
    "        Recall metric. Only computes a batch-wise average of recall. Computes the recall, a metric for multi-label classification of\n",
    "        how many relevant items are selected.\n",
    "        '''\n",
    "        true_positives = K.sum(K.round(K.clip(y_true * y_pred, 0, 1)))\n",
    "        possible_positives = K.sum(K.round(K.clip(y_true, 0, 1)))\n",
    "        recall = true_positives / (possible_positives + K.epsilon())\n",
    "        return recall\n",
    "\n",
    "    y_pred = K.round(y_pred)\n",
    "    precision = precision(y_true, y_pred)\n",
    "    recall = recall(y_true, y_pred)\n",
    "    return 2*((precision*recall)/(precision+recall+K.epsilon()))"
   ],
   "metadata": {
    "collapsed": false
   },
   "id": "450c4a382673487b",
   "execution_count": null
  },
  {
   "cell_type": "code",
   "outputs": [],
   "source": [
    "\n",
    "\n",
    "base_model = tf.keras.applications.EfficientNetB3(weights='imagenet', include_top=False, input_shape=(img_width, img_height, 3))\n",
    "\n",
    "# Add custom layers\n",
    "x = base_model.output\n",
    "x = GlobalAveragePooling2D()(x)\n",
    "x = Dense(1024, activation='relu')(x)\n",
    "predictions = Dense(6, activation='softmax')(x)  # Replace num_classes with your actual number of classes\n",
    "\n",
    "# Define the final model\n",
    "model = Model(inputs=base_model.input, outputs=predictions)\n",
    "\n",
    "# Compile the model\n",
    "model.compile(optimizer='adam',\n",
    "              loss='categorical_crossentropy',\n",
    "              metrics=['accuracy', f1])\n"
   ],
   "metadata": {
    "collapsed": false
   },
   "id": "8b5932f2034a6999",
   "execution_count": null
  },
  {
   "cell_type": "code",
   "outputs": [],
   "source": [
    "# Train the model\n",
    "history = model.fit(\n",
    "    train_ds,\n",
    "    validation_data=val_ds,\n",
    "    epochs=10\n",
    ")"
   ],
   "metadata": {
    "collapsed": false
   },
   "id": "80a6607aa222a32b",
   "execution_count": null
  },
  {
   "cell_type": "code",
   "outputs": [],
   "source": [
    "from sklearn.metrics import classification_report\n",
    "import numpy as np\n",
    "\n",
    "# Assume you have validation data in val_ds\n",
    "# Number of classes\n",
    "# num_classes = len(val_ds.class_indices)\n",
    "\n",
    "# Get true class labels\n",
    "y_true = val_ds.classes\n",
    "\n",
    "# Predict on validation data\n",
    "predictions = model.predict(val_ds)\n",
    "\n",
    "# Convert predictions to label index\n",
    "y_pred = np.argmax(predictions, axis=1)\n",
    "\n",
    "# Print classification report\n",
    "labels = list(val_ds.class_indices.keys())\n",
    "print(classification_report(y_true, y_pred, target_names=labels))"
   ],
   "metadata": {
    "collapsed": false
   },
   "id": "41bcfee25dfeb5e3",
   "execution_count": null
  },
  {
   "cell_type": "code",
   "outputs": [],
   "source": [
    "import matplotlib.pyplot as plt\n",
    "\n",
    "fig, axs = plt.subplots(2)\n",
    "\n",
    "# axs[0].plot(hi)\n",
    "# Plot training & validation accuracy values\n",
    "# axs[0].plot(history.history['accuracy'])\n",
    "# axs[0].plot(history.history['val_accuracy'])\n",
    "# axs[0].set_title('Model accuracy')\n",
    "# axs[0].set_ylabel('Accuracy')\n",
    "# axs[0].set_xlabel('Epoch')\n",
    "# axs[0].legend(['Train', 'Val'], loc='upper left')\n",
    "# \n",
    "# # Plot training & validation loss values\n",
    "# axs[1].plot(history.history['loss'])\n",
    "# axs[1].plot(history.history['val_loss'])\n",
    "# axs[1].set_title('Model loss')\n",
    "# axs[1].set_ylabel('Loss')\n",
    "# axs[1].set_xlabel('Epoch')\n",
    "# axs[1].legend(['Train', 'Val'], loc='upper left')\n",
    "\n",
    "plt.show()"
   ],
   "metadata": {
    "collapsed": false
   },
   "id": "6061076124f1d63a",
   "execution_count": null
  },
  {
   "cell_type": "code",
   "outputs": [],
   "source": [],
   "metadata": {
    "collapsed": false
   },
   "id": "fab0a80d42c56714",
   "execution_count": null
  }
 ],
 "metadata": {
  "kernelspec": {
   "display_name": "Python 3",
   "language": "python",
   "name": "python3"
  },
  "language_info": {
   "codemirror_mode": {
    "name": "ipython",
    "version": 2
   },
   "file_extension": ".py",
   "mimetype": "text/x-python",
   "name": "python",
   "nbconvert_exporter": "python",
   "pygments_lexer": "ipython2",
   "version": "2.7.6"
  }
 },
 "nbformat": 4,
 "nbformat_minor": 5
}
